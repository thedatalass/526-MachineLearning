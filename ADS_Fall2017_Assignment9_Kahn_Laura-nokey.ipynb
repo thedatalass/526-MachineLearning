{
 "cells": [
  {
   "cell_type": "code",
   "execution_count": 3,
   "metadata": {
    "collapsed": false
   },
   "outputs": [],
   "source": [
    "#Fall 2017 Applied Data Science | Indiana University | Laura Kahn | Assignment 9\n",
    "\n",
    "#pip install TwitterAPI\n",
    "#pip install nltk, pip install stop-words, pip install pyquery\n",
    "\n",
    "import json\n",
    "import pandas as pd\n",
    "import numpy as np\n",
    "import sklearn\n",
    "from sklearn.feature_extraction import text as sk_fe_text\n",
    "from sklearn.model_selection import train_test_split\n",
    "from sklearn.metrics import accuracy_score, precision_score, f1_score, recall_score\n",
    "from TwitterAPI import TwitterAPI\n",
    "\n",
    "#Set up the variables for your 'application'\n",
    "consumerkey = 'rPA7yZAP5902lpj1K4Jd2342N'\n",
    "consumersecret = 'HhKcMrY0TxLTtkNsie2bmMvtKZTl7wYAMVe56E1EI5FsQMTVeo'\n",
    "\n",
    "#Setup your API key\n",
    "api = TwitterAPI(consumerkey,consumersecret,auth_type='oAuth2')"
   ]
  },
  {
   "cell_type": "code",
   "execution_count": 4,
   "metadata": {
    "collapsed": true
   },
   "outputs": [],
   "source": [
    "#Get metrics for models\n",
    "def score(true,pred):\n",
    "  return (accuracy_score(true,pred),\n",
    "          precision_score(true,pred),\n",
    "          recall_score(true,pred),\n",
    "          f1_score(true,pred))\n",
    "\n",
    "def print_score(s):\n",
    "  print(\"\"\"\n",
    "Accuracy:   {:0.3}\n",
    "Precision:  {:0.3}\n",
    "Recall:     {:0.3}\n",
    "F-Score:    {:0.3}\n",
    "\"\"\".format(*s))"
   ]
  },
  {
   "cell_type": "code",
   "execution_count": 5,
   "metadata": {
    "collapsed": true
   },
   "outputs": [],
   "source": [
    "#Twitter Search Criteria\n",
    "def searchTwitter(query,feed=\"search/tweets\",api=api,n=1000):\n",
    "  return [t for t in api.request(feed, {'q':query,'count':n})]"
   ]
  },
  {
   "cell_type": "code",
   "execution_count": 6,
   "metadata": {
    "collapsed": true
   },
   "outputs": [],
   "source": [
    "#Get JSON from Twitter search\n",
    "cats = searchTwitter('#cats')\n",
    "dogs = searchTwitter('#dogs')"
   ]
  },
  {
   "cell_type": "code",
   "execution_count": 16,
   "metadata": {
    "collapsed": true
   },
   "outputs": [],
   "source": [
    "# Convert the json returned by Twitter into a dataframe\n",
    "cats_d = pd.read_json(json.dumps(cats))\n",
    "dogs_d = pd.read_json(json.dumps(dogs))"
   ]
  },
  {
   "cell_type": "code",
   "execution_count": 29,
   "metadata": {
    "collapsed": false
   },
   "outputs": [],
   "source": [
    "# If you would like to look at the full data frame\n",
    "# cats_d.info()\n",
    "# dogs_d.info()"
   ]
  },
  {
   "cell_type": "code",
   "execution_count": 8,
   "metadata": {
    "collapsed": false
   },
   "outputs": [],
   "source": [
    "#Text Preprocessing - Get text only and replace hashtags with blanks\n",
    "#If you want to use the normalizer, import it above and pass x.replace() to the noramlizer function\n",
    "\n",
    "cats_text = [x.replace('#cats',\"\") for x in cats_d['text']]\n",
    "dogs_text = [x.replace('#dogs',\"\") for x in dogs_d['text']]"
   ]
  },
  {
   "cell_type": "code",
   "execution_count": 9,
   "metadata": {
    "collapsed": false
   },
   "outputs": [
    {
     "data": {
      "text/plain": [
       "['RT @catsskitten: Yoga Cat ❤️❤️\\nType \"Yes\" If you love cats👇👇\\nTag a friend who💟💟cats\\n#Cats #cat ofinstagram #kitty #kitten #kittycat #C…',\n",
       " 'Relaxed mood #animal #picoftheday #photography #animals #animalsofinstagram #awesome_shots #cat  #cute #igs… https://t.co/mdNyUS9cBC',\n",
       " 'RT @catsskitten: Yoga Cat ❤️❤️\\nType \"Yes\" If you love cats👇👇\\nTag a friend who💟💟cats\\n#Cats #cat ofinstagram #kitty #kitten #kittycat #C…',\n",
       " 'RT @catsskitten: Type \"Yes\" If you love cats👇👇\\nTag a friend who💟💟cats\\n#Cats #cat ofinstagram #kitty #kitten #kittycat #CatsOfTwitter h…',\n",
       " 'RT @RileyChi2: .@RepShimkus❗️#DogsSupportUs PLS 🙏🏽#SupportDogs and #Cats❗️ #Cosponsor #HR1406 The #DogCatMeatTradeProhibitionActOf2017  #Pr…',\n",
       " 'Simon is too comfortable. I am actually trying to get ready for work.  #catparents https://t.co/7ajbTVYJ2s',\n",
       " 'Jag har använt/I’ve used Too faced sha  #beautiful https://t.co/C76WP2Xu1g https://t.co/Wu8lLO4pwM',\n",
       " 'RT @ngremmy: #URGENT #NYC #CATS precious long-haired tuxie PUFFIN abandoned by owner &amp; desperately needs US by 11/20-PLS RT/adopt/pledge/fo…',\n",
       " 'RT @RileyChi2: .@RepChrisStewart❗️#DogsHelpUs PLS 🙏🏽 #HelpDogs and #Cats❗️#Cosponsor #HR1406 The #DogCatMeatTradeProhibitionActOf2017 #Proh…',\n",
       " \"#MondayMotivaton it seems Ellie doesn't completely hate grayson...just a strong dislike.  https://t.co/daQGbMDIx1\",\n",
       " 'RT @suziday123: #MyThanksgivingWishWouldBe that more people would adopt animals from shelters 🐶😻 #dogs  #animalrescue https://t.co/ICK…',\n",
       " 'RT @BrendaPerrott: SWEET, QUIET, CALM &amp;  beautiful #tabby boy BUDDY NEEDS U NOW!  NOON ON MON MAY BE TOO LATE!  #NYC  https://t.co/28w…',\n",
       " 'RT @RileyChi2: .@RepScottTaylor❗️#DogsHelpUs; PLS 🙏🏽 #HelpDogs and #Cats❗️#Cosponsor #HR1406 The #DogCatMeatTradeProhibitionActOf2017 #Proh…',\n",
       " 'RT @BrendaPerrott: SWEET LOYAL LOVING DADO NEEDS U NOW!  NOON ON MON MAY BE TOO LATE!  #NYC  #deathrow . https://t.co/l7OTomEaxH https…',\n",
       " 'RT @RileyChi2: .@RepBradWenstrup❗️#DogsHelpUs; PLS 🙏🏽 #HelpDogs and #Cats❗️#Cosponsor #HR1406 #Prohibit the #Slaughter of #DogsAndCats For…',\n",
       " 'Unlocked: Adventures with Gus \"Night of Terror\". See what clue leads Gus back to crimes during women\\'s suffrage.… https://t.co/f9TEeBjN7n',\n",
       " 'RT @owenclark3: Today I am a cool loaf  #CatsOfTwitter #kittyloafmonday https://t.co/r1jWzZzImt',\n",
       " 'RT @RileyChi2: .@rep_stevewomack❗️#DogsHelpUs PLS 🙏🏽 #HelpDogs and #Cats❗️#Cosponsor #HR1406 the #DogCatMeatTradeProhibitionActOf2017 #Proh…',\n",
       " 'RT @UzzellBooks: A magical adventure!\\nAmazon– https://t.co/AvJDVifRoB\\nOther– https://t.co/t3nODF0uvA\\n #childrensbooks https://t.co/l3z…',\n",
       " 'RT @S_T_O_P_TERROR: Angry #Cats VS #Dogs #Funny Compilation 2017\\nMost angry cats make you laugh.\\nJust look...!!! and #SHARE PLEASE https://…',\n",
       " 'The Klarius research and development team releases new parts to the #emissionscontrol range on a daily basis, using… https://t.co/39oJFnF9Kn',\n",
       " 'RT @MeowMoeDotCom: https://t.co/aY8Yq7z43Y \\nI am king of this forest! ... \\n#Cats #Cat #Kittens #Kitten #Kitty #Pets #Pet #Meow #Moe #CuteCa…',\n",
       " 'RT @FotosiPhoneX: #Cats #Pets #Animales #Gatos #Mascotas #iPhone #iPhoneX #Apple #FotografiaiPhoneX https://t.co/gu3I1KZUzH',\n",
       " 'RT @RileyChi2: .@repdonyoung❗️#DogshelpUs PLS 🙏🏽 #HelpDogs and #Cats❗️ #Cosponsor #HR1406 The #DogCatMeatTradeProhibitionActOf2017 #Prohibi…',\n",
       " 'RT @catbuzz_co: Playing time 😃😛😎\\n\\n#kitten  #kitty #catlover #CatsOfTwitter  tagram #kittensofinstagram #Pets #Caturday #Catofthed…',\n",
       " 'RT @RileyChi2: .@RepWebster❗️#DogsHelpUs PLS 🙏🏽 #HelpDogs and #Cats❗️#Cosponsor #HR1406 The #DogCatMeatTradeProhibitionActOf2017 #Prohibit…',\n",
       " 'Cats!?! #Cats tagram ofinstagram areawesome #cutecats #kitty #kitties https://t.co/YqMuE0Xjwv',\n",
       " 'RT @SquirtTheCat: Just in case you need proof that  make the world a better place for us all....\\n#Purrs4Peace https://t.co/EyPv6QJOCj',\n",
       " 'Playing time 😃😛😎\\n\\n#kitten  #kitty #catlover #CatsOfTwitter  tagram #kittensofinstagram #Pets #Caturday… https://t.co/gLLWLXf5vO',\n",
       " 'RT @brendaperrott2: WHY DOES NO ONE WANT THIS GRATEFUL LOVING #PURRBUG WHO IS APPRECIATIVE?  https://t.co/QrMi5PotOR #NYC  #ADOPTME',\n",
       " 'Special offer on this watch - order now!  \\n\\nCOUPON CODE: catnip\\n\\nStaring at you lovingly whenever you check the tim… https://t.co/rYvEEyTGjU',\n",
       " 'RT @RayneHall: #books #reading #writing  #luckyblackcat https://t.co/uDBrlizSbN',\n",
       " 'I just realized #MeowManor on @UPtv is a thing. If you like , you might like it. If you have cats and/or other… https://t.co/CgV3Uoqq1g',\n",
       " 'El asombroso Maru: el gato más visto en la historia de YouTube (VIDEO)  https://t.co/GlIjn0WdQ5',\n",
       " 'RT @ngremmy: #URGENT #NYC #CATS tiny #kittens CHESTNUT, PRALINE, LATTE, &amp; CHOCOLATE desperately needs US by 11/20-PLS RT/adopt/pledge/foste…',\n",
       " 'RT @ngremmy: #URGENT #NYC #CATS sweet darling DADO deserves a loving forever home &amp; desperately needs US by 11/20-PLS RT/adopt/pledge/foste…',\n",
       " 'RT @ngremmy: #URGENT #NYC #CATS precious calico ROYALTY needs some TLC &amp; desperately needs US by 11/20-PLS RT/adopt/pledge/foster!  https:/…',\n",
       " 'RT @ngremmy: #URGENT #NYC #CATS precious long-haired tuxie PUFFIN abandoned by owner &amp; desperately needs US by 11/20-PLS RT/adopt/pledge/fo…',\n",
       " 'RT @ngremmy: #URGENT #NYC #CATS sweet young BUDDY is FELV+, abandoned by owner, &amp; desperately needs US by 11/20-PLS RT/adopt/pledge/foster!…',\n",
       " 'RT @ngremmy: #URGENT #NYC #CATS beautiful darling BABY deserves a loving family &amp; desperately needs US by 11/20-PLS RT/adopt/pledge/foster!…',\n",
       " 'RT @FotosiPhoneX: #Cats #Pets #Animales #Gatos #Mascotas #iPhone #iPhoneX #Apple #FotografiaiPhoneX https://t.co/gu3I1KZUzH',\n",
       " 'RT @ngremmy: #URGENT #NYC #CATS gorgeous JESSE misses her owner &amp; desperately needs US by 11/20-PLS RT/adopt/pledge/foster!  https://t.co/q…',\n",
       " 'RT @MeowMoeDotCom: https://t.co/aY8Yq7z43Y \\nI am king of this forest! ... \\n#Cats #Cat #Kittens #Kitten #Kitty #Pets #Pet #Meow #Moe #CuteCa…',\n",
       " 'RT @ngremmy: #URGENT #NYC #CATS lovely long-haired lady MAXWELL desperately needs US by 11/20-PLS RT/adopt/pledge/foster!  https://t.co/cMN…',\n",
       " 'RT @ngremmy: #URGENT #NYC #CATS beautiful stunner HONEY abandoned by owner &amp; desperately needs US by 11/20-PLS RT/adopt/pledge/foster!  htt…',\n",
       " 'RT @ngremmy: #URGENT #NYC #CATS young innocent kitty ANNIE OAKLEY deserves a loving family &amp; desperately needs US by 11/20-PLS RT/adopt/ple…',\n",
       " 'RT @RileyChi2: .@ToddRokita❗️#DogsHelpUs PLS 🙏🏽 #HelpDogs and #Cats❗️ #Cosponsor #HR1406 The #DogCatMeatTradeProhibitionActOf2017 #Prohibit…',\n",
       " 'RT @ngremmy: #URGENT #NYC #CATS sweet innocent panther STEW needs some time to adjust &amp; desperately needs US by 11/20-PLS RT/adopt/pledge/f…',\n",
       " 'RT @ngremmy: #URGENT #NYC #CATS handsome darling ECKO deserves a loving forever family &amp; desperately needs US by 11/20-PLS RT/adopt/pledge/…',\n",
       " 'RT @ngremmy: #URGENT #NYC #CATS precious young kitty PLAY deserves a forever home &amp; desperately needs US by 11/20-PLS RT/adopt/pledge/foste…',\n",
       " 'RT @ngremmy: PLS contact the HELP DESK for any &amp; all inquiries about helping tonight’s/tomorrow’s 13 innocent #URGENT #NYC #CATS, each of w…',\n",
       " 'Un güerito vino a casa a comer ❤️\\n#gato #gatito #cat  https://t.co/U5FueSKB2I',\n",
       " 'RT @BrendaPerrott: SOS!  SAVE #TAMPA #TAMPABAY #BLACKCAT DAPHNE!  SWEET GIRL NEEDS U NOW!  #DEATHROW  \\nhttps://t.co/YCzoUlekkf',\n",
       " 'RT @gocharities: https://t.co/eofQdcb2Nn .net .co \\n\\nDomains are for sale \\n\\n#domains #websites #startups #nokill #dogs  #charity #pets…',\n",
       " 'Tuxedo Trio to hear more about them https://t.co/zRjdeJ0EJD  #tuxedocats https://t.co/TaEd1xVFgY',\n",
       " 'RT @cutecatees: https://t.co/MIg6xIrbuP  #cat #kitten #kitty #cutecat #cutecats #kittens oftwtitter https://t.co/IM31VWQBCV',\n",
       " 'RT @brendaperrott2: WHY DOES NO ONE WANT THIS GRATEFUL LOVING #PURRBUG WHO IS APPRECIATIVE?  https://t.co/QrMi5PotOR #NYC  #ADOPTME',\n",
       " 'RT @KittyKat56cat: You Caught Me Loafing With My Mousie Toys !!!  #CatsOfTwitter #kittyloafmonday #MiniTheGreenEyedKitty https://t.co/…',\n",
       " 'Diez razas de gatos que quizás no sabes que existen (VIDEO) #Cats #Viral https://t.co/z7eqoEKorB',\n",
       " 'RT @gocharities: https://t.co/eofQdcsDEV Domain is for sale #domains #websites #startups #nokill #dogs  #charity #pets via @mainprofil…',\n",
       " 'RT @ngremmy: #URGENT #NYC #CATS precious calico ROYALTY needs some TLC &amp; desperately needs US by 11/20-PLS RT/adopt/pledge/foster!  https:/…',\n",
       " 'Cat Painting Norwegian Forest Cat Closeup Head Acrylic Pet Portrait https://t.co/5ZhYudykqJ #petportraits … https://t.co/QoxzBIRqug',\n",
       " 'RT @saravastiares: @Choco_Sandy1 @fryld @patdefranchis @MarkGKirshner @oadele53 Do not disturb till next weekend 🐾🐾🐱😽\\n\\n🐈💤💤  #CatLovers…',\n",
       " 'RT @WaynetteClevela: An old picture of Bobo meandering through the fully bloomed... #cute  https://t.co/siROjQDfY0',\n",
       " 'RT @ngremmy: #URGENT #NYC #CATS gorgeous JESSE misses her owner &amp; desperately needs US by 11/20-PLS RT/adopt/pledge/foster!  https://t.co/q…',\n",
       " 'A few words from the modteam regarding Mourning/Loss... #cute  https://t.co/tJuZkl37E9',\n",
       " 'RT @MamaTazzy13: #kittyloafmonday 🙀🐾❤ Two lovely loafs 🍞  #AdoptDontShop #CurePetCancer2017 https://t.co/m2cOftySmJ 🐈🐾🍁 HUGS and thank…',\n",
       " 'RT @ngremmy: #URGENT #NYC #CATS precious calico ROYALTY needs some TLC &amp; desperately needs US by 11/20-PLS RT/adopt/pledge/foster!  https:/…',\n",
       " 'RT @RileyChi2: .@RepThomasMassie❗️#DogsHelpUs (&amp; 🐘\\U0001f98f..) PLS #HelpDogs and #Cats❗️ #Cosponsor #HR1406 The #DogCatMeatTradeProhibitionActOf201…',\n",
       " 'A magical adventure!\\nAmazon– https://t.co/AvJDVifRoB\\nOther– https://t.co/t3nODF0uvA\\n #childrensbooks https://t.co/l3zSMVqi6p',\n",
       " 'お母しゃん、マラソンの練習で10キロ走ったんだって〜\\n寒いからってアタチにベッタリにゃ！\\n#猫 #ねこ #ネコ #ネコダスケステーション #にゃんすたぐらむ #cat … https://t.co/zClAtZ9VLe',\n",
       " \"RT @KatzenworldBlog: Oliver &amp; Nubia' looking adorable! Check out their stories on https://t.co/0cYuxf2HKu  #catlovers https://t.co/7BC…\",\n",
       " '#cat  #kitten #blackcat #tv #blueplanet2 #davidattenborough https://t.co/Tanw3XbonI',\n",
       " 'RT @RileyChi2: .@RepAlexMooney❗️#DogsHelpUs PLS 🙏🏽 #HelpDogs and #Cats❗️ #Cosponsor #HR1406 The #DogCatMeatTradeProhibitionAct2017 #Prohibi…',\n",
       " 'RT @RileyChi2: .@RepMoBrooks❗️#DogsHelpUs (this dog served in Iraq) PLS 🙏🏽 #HelpDogs and #Cats❗️#Cosponsor #HR1406 The #DogCatMeatTradeProh…',\n",
       " 'RT @gocharities: https://t.co/eofQdcb2Nn .net .co \\n\\nDomains are for sale \\n\\n#domains #websites #startups #nokill #dogs  #charity #pets…',\n",
       " 'RT @RileyChi2: .@USRepGaryPalmer❗️#DogsHelpUs PLS 🙏🏽 #HelpDogs and #Cats❗️ #Cosponsor #HR1406 The #DogCatMeatTradeProhibitionActOf2017 #Pro…',\n",
       " 'RT @tototus2nd: 晴れているときもちいいよねっ。\\n\\n#ネッコ祭り #猫  #僕らの居場所は言わにゃいで https://t.co/RSPR66PtsI',\n",
       " 'RT @RileyChi2: .@ToddRokita❗️#DogsHelpUs PLS 🙏🏽 #HelpDogs and #Cats❗️ #Cosponsor #HR1406 The #DogCatMeatTradeProhibitionActOf2017 #Prohibit…',\n",
       " 'RT @RileyChi2: .@RepThomasMassie❗️#DogsHelpUs (&amp; 🐘\\U0001f98f..) PLS #HelpDogs and #Cats❗️ #Cosponsor #HR1406 The #DogCatMeatTradeProhibitionActOf201…',\n",
       " \"Love ? Would you shell out $538 for a stuffed version of Karl Lagerfeld's pet Choupette? https://t.co/HBZc9ZDTPl via @ibtimes_india\",\n",
       " 'RT @BrendaPerrott: SWEET, QUIET, CALM &amp;  beautiful #tabby boy BUDDY NEEDS U NOW!  NOON ON MON MAY BE TOO LATE!  #NYC  https://t.co/28w…',\n",
       " '#Mina contemplando la lluvia\\n\\n #capture #attitude #composition #daylight #home #love #model #white… https://t.co/SZu2pH9d9C',\n",
       " 'So Cute😻😻😻\\nVisit WeMeow YouTube Channel: https://t.co/wRpyEtHMsK\\n\\n#cat  #wemeow #mycat #pet #kitty #kittens… https://t.co/vx1wSKIlwT',\n",
       " 'Dreamy cats🦄\\n#cat #goodgirl #tortoise  #girl #cutecat #cute #beautiful  #female #sweet… https://t.co/iKYOFbXH74',\n",
       " \"L'amour des chats pour les cartons....  #catofinstagram https://t.co/vmfHl7MBvS https://t.co/4AmOJTFcbp\",\n",
       " 'RT @ngremmy: #URGENT #NYC #CATS sweet innocent panther STEW needs some time to adjust &amp; desperately needs US by 11/20-PLS RT/adopt/pledge/f…',\n",
       " 'Diez razas de gatos que quizás no sabes que existen (VIDEO) #Cats https://t.co/qSXiX60Tm0',\n",
       " 'RT @Catherine_Riche: The #NYC ACC  &amp; #kittens are in urgent need of fosters &amp; adopters. Free transport available to certain states. ht…',\n",
       " 'RT @Catownersuk: That face....  oftwitter https://t.co/nYrdd0PkcO',\n",
       " \"#Writers! Need a review? Give at least $20.00 to Kitty Haven &amp; help  &amp; I'll read your work and write a review! https://t.co/EX5weBC1lK\",\n",
       " 'RT @ziuteklebiedz: Hi friends! Boudica is loafing on #Commodore64 breadbin ;) Happy Monday to all 🐾🐾🐝🐱🐦🐦🐧\\n #BlackCat #c64 https://t.co…',\n",
       " 'Free microchipping days at the @CambsBlueCross 🐶🐱 \\nMore details on their website ://www.bluecross.org.uk/cambridges… https://t.co/8n2eBUH5pJ',\n",
       " 'Buenos días Paopaenses! 😊☀️🌥 #cat  #pottery #breakfast #breakfastlover #desayuno #tostadas… https://t.co/nGhU8M8QZx',\n",
       " 'Purr purr 😍\\n  https://t.co/bPuTMUTlR3']"
      ]
     },
     "execution_count": 9,
     "metadata": {},
     "output_type": "execute_result"
    }
   ],
   "source": [
    "#Let's take a look at the Tweets that contain the word \"cat\"\n",
    "cats_text"
   ]
  },
  {
   "cell_type": "code",
   "execution_count": 30,
   "metadata": {
    "collapsed": true
   },
   "outputs": [],
   "source": [
    "#Create features and return sparse matricies\n",
    "vectorizer = sk_fe_text.CountVectorizer(cats_text+dogs_text)\n",
    "vectorizer.fit(cats_text+dogs_text)\n",
    "cats_tdm = vectorizer.transform(cats_text).toarray()\n",
    "dogs_tdm = vectorizer.transform(dogs_text).toarray()"
   ]
  },
  {
   "cell_type": "code",
   "execution_count": 31,
   "metadata": {
    "collapsed": true
   },
   "outputs": [],
   "source": [
    "#Create visible matricies and combine\n",
    "zeros = np.zeros((len(cats_text),1))\n",
    "ones = np.ones((len(dogs_text),1))\n",
    "catsdogs = np.concatenate((cats_tdm,dogs_tdm),axis=0)\n",
    "y = np.ravel(np.concatenate((zeros,ones),axis=0))"
   ]
  },
  {
   "cell_type": "code",
   "execution_count": 32,
   "metadata": {
    "collapsed": true
   },
   "outputs": [],
   "source": [
    "#Create train/test split for modeling\n",
    "trainX,testX,trainY,testY = train_test_split(catsdogs,y,test_size=.20)"
   ]
  },
  {
   "cell_type": "code",
   "execution_count": 35,
   "metadata": {
    "collapsed": false
   },
   "outputs": [
    {
     "name": "stdout",
     "output_type": "stream",
     "text": [
      "\n",
      "\n",
      "Naive Bayes Performance\n",
      "\n",
      "Accuracy:   0.811\n",
      "Precision:  0.765\n",
      "Recall:     0.812\n",
      "F-Score:    0.788\n",
      "\n"
     ]
    }
   ],
   "source": [
    "#Begin Classifier Modeling, Fitting, Performance Metrics\n",
    "\n",
    "#Naive Bayes\n",
    "from sklearn.naive_bayes import GaussianNB\n",
    "nb = GaussianNB()\n",
    "nb.fit(trainX,trainY)\n",
    "\n",
    "print(\"\\n\\nNaive Bayes Performance\")\n",
    "s = score(testY,nb.predict(testX))\n",
    "print_score(s)"
   ]
  },
  {
   "cell_type": "code",
   "execution_count": 44,
   "metadata": {
    "collapsed": false
   },
   "outputs": [
    {
     "name": "stdout",
     "output_type": "stream",
     "text": [
      "\n",
      "\n",
      "SVM Performance\n",
      "\n",
      "Accuracy:   0.568\n",
      "Precision:  0.0\n",
      "Recall:     0.0\n",
      "F-Score:    0.0\n",
      "\n"
     ]
    },
    {
     "name": "stderr",
     "output_type": "stream",
     "text": [
      "C:\\Anaconda3\\lib\\site-packages\\sklearn\\metrics\\classification.py:1135: UndefinedMetricWarning: Precision is ill-defined and being set to 0.0 due to no predicted samples.\n",
      "  'precision', 'predicted', average, warn_for)\n",
      "C:\\Anaconda3\\lib\\site-packages\\sklearn\\metrics\\classification.py:1135: UndefinedMetricWarning: F-score is ill-defined and being set to 0.0 due to no predicted samples.\n",
      "  'precision', 'predicted', average, warn_for)\n"
     ]
    }
   ],
   "source": [
    "#Support Vector Machine, SVM\n",
    "\n",
    "from sklearn import svm\n",
    "svm = svm.SVC()\n",
    "svm.fit(trainX,trainY)\n",
    "\n",
    "print(\"\\n\\nSVM Performance\")\n",
    "s = score(testY,y_pred)\n",
    "print_score(s)\n",
    "\n",
    "#Not quite sure why the precision, recall and f-scores aren't working but they aren't relevant to the assignment\n",
    "#question."
   ]
  },
  {
   "cell_type": "code",
   "execution_count": 40,
   "metadata": {
    "collapsed": false
   },
   "outputs": [
    {
     "name": "stdout",
     "output_type": "stream",
     "text": [
      "\n",
      "\n",
      "Naive Bayes Performance\n",
      "\n",
      "Accuracy:   0.919\n",
      "Precision:  0.882\n",
      "Recall:     0.938\n",
      "F-Score:    0.909\n",
      "\n"
     ]
    }
   ],
   "source": [
    "#Neural Network Classifier\n",
    "from sklearn.neural_network import MLPClassifier\n",
    "\n",
    "nn = MLPClassifier(solver='lbfgs', alpha=1e-5, hidden_layer_sizes=(5,2), random_state=1)\n",
    "nn.fit(trainX,trainY)\n",
    "\n",
    "print(\"\\n\\nNaive Bayes Performance\")\n",
    "s = score(testY,nn.predict(testX))\n",
    "print_score(s)"
   ]
  },
  {
   "cell_type": "markdown",
   "metadata": {},
   "source": [
    "#The accuracy is a lot higher for the Neural Network Classifier (0.919). The Naive Bayes classifier is the next\n",
    "#most accurate model at 0.811, followed by the Support Vector Machine which is only slightly better than a randomly\n",
    "#chosen baseline at 0.568."
   ]
  },
  {
   "cell_type": "code",
   "execution_count": null,
   "metadata": {
    "collapsed": true
   },
   "outputs": [],
   "source": []
  }
 ],
 "metadata": {
  "kernelspec": {
   "display_name": "Python 3",
   "language": "python",
   "name": "python3"
  },
  "language_info": {
   "codemirror_mode": {
    "name": "ipython",
    "version": 3
   },
   "file_extension": ".py",
   "mimetype": "text/x-python",
   "name": "python",
   "nbconvert_exporter": "python",
   "pygments_lexer": "ipython3",
   "version": "3.5.4"
  }
 },
 "nbformat": 4,
 "nbformat_minor": 2
}
