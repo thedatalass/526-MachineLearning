{
 "cells": [
  {
   "cell_type": "code",
   "execution_count": 9,
   "metadata": {
    "collapsed": true
   },
   "outputs": [],
   "source": [
    "#Show Me the Money: Forecasting Economic Aid with Machine Learning\n",
    "#Python 3.1 code by Laura Kahn & Majid Khorrami\n",
    "#May 4, 2017"
   ]
  },
  {
   "cell_type": "code",
   "execution_count": 2,
   "metadata": {
    "collapsed": true
   },
   "outputs": [],
   "source": [
    "#Get the raw data\n",
    "#USAID data and World Bank data\n",
    "\n",
    "USAIDURL = 'https://explorer.usaid.gov/prepared/us_foreign_aid_country.xlsx'\n",
    "WBURL = 'http://wdi.worldbank.org/table/1.1#'"
   ]
  },
  {
   "cell_type": "code",
   "execution_count": 3,
   "metadata": {
    "collapsed": false
   },
   "outputs": [],
   "source": [
    "#Read the USAID URL into Python shell\n",
    "from urllib.request import urlretrieve\n",
    "urlretrieve(USAIDURL, 'USAID.xlsx')\n",
    "\n",
    "#Convert XLSX to CSV and view the sheet in the workbook named 'us_foreign_aid_country'\n",
    "import csv\n",
    "import pandas as pd\n",
    "usaid_data_xlsx = pd.read_excel('USAID.xlsx', 'us_foreign_aid_country', index_col=None)\n",
    "usaid_data_xlsx.to_csv('USAID.xlsx', encoding='utf-8')"
   ]
  },
  {
   "cell_type": "code",
   "execution_count": 9,
   "metadata": {
    "collapsed": false
   },
   "outputs": [
    {
     "ename": "AttributeError",
     "evalue": "module 'urllib' has no attribute 'urlretrieve'",
     "output_type": "error",
     "traceback": [
      "\u001b[1;31m---------------------------------------------------------------------------\u001b[0m",
      "\u001b[1;31mAttributeError\u001b[0m                            Traceback (most recent call last)",
      "\u001b[1;32m<ipython-input-9-74e55bf12501>\u001b[0m in \u001b[0;36m<module>\u001b[1;34m()\u001b[0m\n\u001b[0;32m     12\u001b[0m \u001b[0mfx_url\u001b[0m \u001b[1;33m=\u001b[0m \u001b[0mfx_url\u001b[0m \u001b[1;33m+\u001b[0m \u001b[0mdate_f\u001b[0m \u001b[1;33m+\u001b[0m \u001b[0mdate_s\u001b[0m \u001b[1;33m+\u001b[0m \u001b[1;34m'&exch='\u001b[0m \u001b[1;33m+\u001b[0m \u001b[0mcur1\u001b[0m \u001b[1;33m+\u001b[0m\u001b[1;34m'&exch2='\u001b[0m \u001b[1;33m+\u001b[0m \u001b[0mcur1\u001b[0m\u001b[1;33m\u001b[0m\u001b[0m\n\u001b[0;32m     13\u001b[0m \u001b[0mfx_url\u001b[0m \u001b[1;33m=\u001b[0m \u001b[0mfx_url\u001b[0m \u001b[1;33m+\u001b[0m\u001b[1;34m'&expr='\u001b[0m \u001b[1;33m+\u001b[0m \u001b[0mcur2\u001b[0m \u001b[1;33m+\u001b[0m  \u001b[1;34m'&expr2='\u001b[0m \u001b[1;33m+\u001b[0m \u001b[0mcur2\u001b[0m\u001b[1;33m\u001b[0m\u001b[0m\n\u001b[1;32m---> 14\u001b[1;33m \u001b[0mdata\u001b[0m \u001b[1;33m=\u001b[0m \u001b[0murllib\u001b[0m\u001b[1;33m.\u001b[0m\u001b[0murlretrieve\u001b[0m\u001b[1;33m(\u001b[0m\u001b[0mfx_url\u001b[0m\u001b[1;33m)\u001b[0m\u001b[1;33m.\u001b[0m\u001b[0mread\u001b[0m\u001b[1;33m(\u001b[0m\u001b[1;33m)\u001b[0m\u001b[1;33m\u001b[0m\u001b[0m\n\u001b[0m\u001b[0;32m     15\u001b[0m \u001b[0msoup\u001b[0m \u001b[1;33m=\u001b[0m \u001b[0mBeautifulSoup\u001b[0m\u001b[1;33m(\u001b[0m\u001b[0mdata\u001b[0m\u001b[1;33m)\u001b[0m\u001b[1;33m\u001b[0m\u001b[0m\n\u001b[0;32m     16\u001b[0m \u001b[0mdata\u001b[0m \u001b[1;33m=\u001b[0m \u001b[0mstr\u001b[0m\u001b[1;33m(\u001b[0m\u001b[0msoup\u001b[0m\u001b[1;33m.\u001b[0m\u001b[0mfindAll\u001b[0m\u001b[1;33m(\u001b[0m\u001b[1;34m'pre'\u001b[0m\u001b[1;33m,\u001b[0m \u001b[0mlimit\u001b[0m\u001b[1;33m=\u001b[0m\u001b[1;36m1\u001b[0m\u001b[1;33m)\u001b[0m\u001b[1;33m)\u001b[0m\u001b[1;33m\u001b[0m\u001b[0m\n",
      "\u001b[1;31mAttributeError\u001b[0m: module 'urllib' has no attribute 'urlretrieve'"
     ]
    }
   ],
   "source": [
    "#Since the data from World Bank is in HTML format on the page:\n",
    "#http://wdi.worldbank.org/table/1.1#\n",
    "\n",
    "from bs4 import BeautifulSoup\n",
    "import urllib,string,csv,sys,os\n",
    "\n",
    "\n",
    "date_s = '&date1=01/01/08'\n",
    "date_f = '&date=11/10/08'\n",
    "fx_url = 'http://wdi.worldbank.org/table/1.1#'\n",
    "cur1,cur2 = 'USD','AUD'\n",
    "fx_url = fx_url + date_f + date_s + '&exch=' + cur1 +'&exch2=' + cur1\n",
    "fx_url = fx_url +'&expr=' + cur2 +  '&expr2=' + cur2\n",
    "data = urllib.urlretrieve(fx_url).read()\n",
    "soup = BeautifulSoup(data)\n",
    "data = str(soup.findAll('pre', limit=1))\n",
    "data = replace(data,'[<pre>','')\n",
    "data = replace(data,'</pre>]','')\n",
    "file_location = '/Users/location_edit_this'\n",
    "file_name = file_location + 'usd_aus.csv'\n",
    "file = open(file_name,\"w\")\n",
    "file.write(data)\n",
    "file.close()"
   ]
  },
  {
   "cell_type": "code",
   "execution_count": null,
   "metadata": {
    "collapsed": true
   },
   "outputs": [],
   "source": [
    "#Delete unnecessary columns\n",
    "df = df.drop('column', axis=1, inplace=True)"
   ]
  },
  {
   "cell_type": "code",
   "execution_count": null,
   "metadata": {
    "collapsed": true
   },
   "outputs": [],
   "source": [
    "#Import World Bank worksheet \n",
    "\n",
    "#Add relevant column - merge two worksheets"
   ]
  }
 ],
 "metadata": {
  "kernelspec": {
   "display_name": "Python 3",
   "language": "python",
   "name": "python3"
  },
  "language_info": {
   "codemirror_mode": {
    "name": "ipython",
    "version": 3
   },
   "file_extension": ".py",
   "mimetype": "text/x-python",
   "name": "python",
   "nbconvert_exporter": "python",
   "pygments_lexer": "ipython3",
   "version": "3.5.1"
  }
 },
 "nbformat": 4,
 "nbformat_minor": 0
}
