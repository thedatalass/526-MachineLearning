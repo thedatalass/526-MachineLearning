{
 "cells": [
  {
   "cell_type": "code",
   "execution_count": 1,
   "metadata": {
    "collapsed": true
   },
   "outputs": [],
   "source": [
    "#Tutorial from aiworkbox.com/lessons/multiply-two-matrices-using-tensorflow-matmul\n",
    "import tensorflow as tf"
   ]
  },
  {
   "cell_type": "code",
   "execution_count": 2,
   "metadata": {
    "collapsed": false
   },
   "outputs": [
    {
     "name": "stdout",
     "output_type": "stream",
     "text": [
      "1.3.0\n"
     ]
    }
   ],
   "source": [
    "print(tf.__version__)"
   ]
  },
  {
   "cell_type": "code",
   "execution_count": 3,
   "metadata": {
    "collapsed": true
   },
   "outputs": [],
   "source": [
    "#The first matrix will be a TensorFlow tensor shaped 3x3 with min values of 1, max values of 10, and the data type will be int32.\n",
    "random_int_var = tf.get_variable(\"random_int_var_1_to_10\",\n",
    "                                     initializer=tf.random_uniform([3, 3],\n",
    "                                                 minval=1,\n",
    "                                                 maxval=10,\n",
    "                                                 dtype=tf.int32))\n",
    "#We use tf.get_variable and we give it the name random_int_var_1_to_10.\n",
    "#We assign it to the Python variable random_int_var."
   ]
  },
  {
   "cell_type": "code",
   "execution_count": 4,
   "metadata": {
    "collapsed": false
   },
   "outputs": [
    {
     "name": "stdout",
     "output_type": "stream",
     "text": [
      "<tf.Variable 'random_int_var_1_to_10:0' shape=(3, 3) dtype=int32_ref>\n"
     ]
    }
   ],
   "source": [
    "print(random_int_var)"
   ]
  },
  {
   "cell_type": "code",
   "execution_count": 5,
   "metadata": {
    "collapsed": true
   },
   "outputs": [],
   "source": [
    "#The second matrix we create will be a TensorFlow tensor shaped 3x3 with integers \n",
    "#ones for every element with the data type of int32.\n",
    "tf_int_ones = tf.ones(shape=[3,3], dtype=\"int32\")"
   ]
  },
  {
   "cell_type": "code",
   "execution_count": 6,
   "metadata": {
    "collapsed": false
   },
   "outputs": [
    {
     "name": "stdout",
     "output_type": "stream",
     "text": [
      "Tensor(\"ones:0\", shape=(3, 3), dtype=int32)\n"
     ]
    }
   ],
   "source": [
    "print(tf_int_ones)"
   ]
  },
  {
   "cell_type": "code",
   "execution_count": 9,
   "metadata": {
    "collapsed": true
   },
   "outputs": [],
   "source": [
    "#Now that we’ve created our TensorFlow matrix tensors, it’s time to run the computational graph.\n",
    "sess = tf.Session()"
   ]
  },
  {
   "cell_type": "code",
   "execution_count": 10,
   "metadata": {
    "collapsed": true
   },
   "outputs": [],
   "source": [
    "#initialize all the global variables in the graph, in this case, our two matrices:\n",
    "sess.run(tf.global_variables_initializer())"
   ]
  },
  {
   "cell_type": "code",
   "execution_count": 11,
   "metadata": {
    "collapsed": false
   },
   "outputs": [
    {
     "name": "stdout",
     "output_type": "stream",
     "text": [
      "[[4 2 5]\n",
      " [7 4 9]\n",
      " [6 3 7]]\n"
     ]
    }
   ],
   "source": [
    "print(sess.run(random_int_var))"
   ]
  },
  {
   "cell_type": "code",
   "execution_count": 12,
   "metadata": {
    "collapsed": false
   },
   "outputs": [
    {
     "name": "stdout",
     "output_type": "stream",
     "text": [
      "[[1 1 1]\n",
      " [1 1 1]\n",
      " [1 1 1]]\n"
     ]
    }
   ],
   "source": [
    "#Print second matrix\n",
    "print(sess.run(tf_int_ones))"
   ]
  },
  {
   "cell_type": "code",
   "execution_count": 13,
   "metadata": {
    "collapsed": true
   },
   "outputs": [],
   "source": [
    "#do the matrix multiplication using tf.matmul operation.\n",
    "tf_matrix_multiplication_prod = tf.matmul(random_int_var, tf_int_ones)"
   ]
  },
  {
   "cell_type": "code",
   "execution_count": 14,
   "metadata": {
    "collapsed": false
   },
   "outputs": [
    {
     "name": "stdout",
     "output_type": "stream",
     "text": [
      "[[11 11 11]\n",
      " [20 20 20]\n",
      " [16 16 16]]\n"
     ]
    }
   ],
   "source": [
    "print(sess.run(tf_matrix_multiplication_prod))"
   ]
  },
  {
   "cell_type": "code",
   "execution_count": null,
   "metadata": {
    "collapsed": true
   },
   "outputs": [],
   "source": []
  }
 ],
 "metadata": {
  "kernelspec": {
   "display_name": "Python 3",
   "language": "python",
   "name": "python3"
  },
  "language_info": {
   "codemirror_mode": {
    "name": "ipython",
    "version": 3
   },
   "file_extension": ".py",
   "mimetype": "text/x-python",
   "name": "python",
   "nbconvert_exporter": "python",
   "pygments_lexer": "ipython3",
   "version": "3.5.4"
  }
 },
 "nbformat": 4,
 "nbformat_minor": 2
}
